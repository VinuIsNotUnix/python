{
 "cells": [
  {
   "cell_type": "code",
   "execution_count": 19,
   "metadata": {},
   "outputs": [],
   "source": [
    "from sklearn.feature_extraction.text import TfidfVectorizer"
   ]
  },
  {
   "cell_type": "code",
   "execution_count": 8,
   "metadata": {},
   "outputs": [
    {
     "name": "stdout",
     "output_type": "stream",
     "text": [
      "[{u'message': [u'Hello how are you', u'Hi how are you', u'How to work fine', u'You are great'], u'id': u'12345'}]\n"
     ]
    }
   ],
   "source": [
    "import json\n",
    "\n",
    "data_file = open('intent\\\\data.json')\n",
    "data = json.load(data_file)\n",
    "\n",
    "print(data)"
   ]
  },
  {
   "cell_type": "code",
   "execution_count": 17,
   "metadata": {},
   "outputs": [
    {
     "name": "stdout",
     "output_type": "stream",
     "text": [
      "[u'Hello how are you', u'Hi how are you', u'How to work fine', u'You are great']\n"
     ]
    }
   ],
   "source": [
    "corpus = data[0][\"message\"]\n",
    "print corpus"
   ]
  },
  {
   "cell_type": "code",
   "execution_count": 32,
   "metadata": {},
   "outputs": [
    {
     "name": "stdout",
     "output_type": "stream",
     "text": [
      "4 are\n"
     ]
    }
   ],
   "source": [
    "vectorizer = TfidfVectorizer(min_df=1)\n",
    "X = vectorizer.fit_transform(corpus)\n",
    "t = vectorizer.get_feature_names()\n",
    "print X.shape[0], t[0]"
   ]
  },
  {
   "cell_type": "code",
   "execution_count": 33,
   "metadata": {
    "collapsed": true
   },
   "outputs": [],
   "source": [
    "import numpy as np\n",
    "import matplotlib.pyplot as plt\n",
    "from sklearn.cluster import KMeans"
   ]
  },
  {
   "cell_type": "code",
   "execution_count": 36,
   "metadata": {},
   "outputs": [],
   "source": [
    "kmeans = KMeans(n_clusters = 2)\n",
    "a = kmeans.fit(X)\n",
    "centroid = kmeans.cluster_centers_\n",
    "labels = kmeans.labels_"
   ]
  },
  {
   "cell_type": "code",
   "execution_count": 46,
   "metadata": {},
   "outputs": [
    {
     "name": "stdout",
     "output_type": "stream",
     "text": [
      "1 [u'How to work fine']\n",
      "0 [u'Hello how are you', u'Hi how are you', u'You are great']\n"
     ]
    }
   ],
   "source": [
    "d = {}\n",
    "for i in range(0,len(corpus)):\n",
    "    if str(labels[i]) in d:\n",
    "        d[str(labels[i])].append(corpus[i])\n",
    "    else:\n",
    "        d[str(labels[i])] = [corpus[i]]\n",
    "        \n",
    "for key in d:\n",
    "    print key, d[key][:5]\n",
    "    "
   ]
  },
  {
   "cell_type": "code",
   "execution_count": 47,
   "metadata": {},
   "outputs": [
    {
     "name": "stdout",
     "output_type": "stream",
     "text": [
      "{'1': 0.2857142857142857, '0': 0.64}\n"
     ]
    },
    {
     "data": {
      "text/plain": [
       "[u'How to work fine']"
      ]
     },
     "execution_count": 47,
     "metadata": {},
     "output_type": "execute_result"
    }
   ],
   "source": [
    "from difflib import SequenceMatcher\n",
    "import operator\n",
    "\n",
    "def find_matching_intents(intent_dist, statement):\n",
    "    matches = {}\n",
    "    for key in d:\n",
    "        all_matches = [SequenceMatcher(None, statement, b).ratio() for b in d[key]]\n",
    "        matches[key] = max(all_matches)\n",
    "    retval = dict(sorted(matches.iteritems(), key = operator.itemgetter(1), reverse = True)[:3])\n",
    "    return retval\n",
    "\n",
    "x = find_matching_intents(d, \"how nice are \")\n",
    "print x\n",
    "d[\"1\"]"
   ]
  },
  {
   "cell_type": "code",
   "execution_count": null,
   "metadata": {
    "collapsed": true
   },
   "outputs": [],
   "source": []
  }
 ],
 "metadata": {
  "kernelspec": {
   "display_name": "Python 2",
   "language": "python",
   "name": "python2"
  },
  "language_info": {
   "codemirror_mode": {
    "name": "ipython",
    "version": 2
   },
   "file_extension": ".py",
   "mimetype": "text/x-python",
   "name": "python",
   "nbconvert_exporter": "python",
   "pygments_lexer": "ipython2",
   "version": "2.7.13"
  }
 },
 "nbformat": 4,
 "nbformat_minor": 2
}
