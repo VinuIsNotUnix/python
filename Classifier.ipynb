{
 "cells": [
  {
   "cell_type": "code",
   "execution_count": 19,
   "metadata": {},
   "outputs": [],
   "source": [
    "from sklearn.feature_extraction.text import TfidfVectorizer"
   ]
  },
  {
   "cell_type": "code",
   "execution_count": 8,
   "metadata": {},
   "outputs": [
    {
     "name": "stdout",
     "output_type": "stream",
     "text": [
      "[{u'message': [u'Hello how are you', u'Hi how are you', u'How to work fine', u'You are great'], u'id': u'12345'}]\n"
     ]
    }
   ],
   "source": [
    "import json\n",
    "\n",
    "data_file = open('intent\\\\data.json')\n",
    "data = json.load(data_file)\n",
    "\n",
    "print(data)"
   ]
  },
  {
   "cell_type": "code",
   "execution_count": 17,
   "metadata": {},
   "outputs": [
    {
     "name": "stdout",
     "output_type": "stream",
     "text": [
      "[u'Hello how are you', u'Hi how are you', u'How to work fine', u'You are great']\n"
     ]
    }
   ],
   "source": [
    "corpus = data[0][\"message\"]\n",
    "print corpus"
   ]
  },
  {
   "cell_type": "code",
   "execution_count": 30,
   "metadata": {},
   "outputs": [
    {
     "name": "stdout",
     "output_type": "stream",
     "text": [
      "{u'great': 1.9162907318741551, u'to': 1.9162907318741551, u'work': 1.9162907318741551, u'how': 1.2231435513142097, u'hi': 1.9162907318741551, u'are': 1.2231435513142097, u'you': 1.2231435513142097, u'fine': 1.9162907318741551, u'hello': 1.9162907318741551}\n",
      "9 1.91629073187\n"
     ]
    }
   ],
   "source": [
    "vectorizer = TfidfVectorizer(min_df=1)\n",
    "X = vectorizer.fit_transform(corpus)\n",
    "t = vectorizer.idf_\n",
    "print dict(zip(vectorizer.get_feature_names(), t)) \n",
    "print X.shape[], t[1]"
   ]
  },
  {
   "cell_type": "code",
   "execution_count": null,
   "metadata": {
    "collapsed": true
   },
   "outputs": [],
   "source": []
  }
 ],
 "metadata": {
  "kernelspec": {
   "display_name": "Python 2",
   "language": "python",
   "name": "python2"
  },
  "language_info": {
   "codemirror_mode": {
    "name": "ipython",
    "version": 2
   },
   "file_extension": ".py",
   "mimetype": "text/x-python",
   "name": "python",
   "nbconvert_exporter": "python",
   "pygments_lexer": "ipython2",
   "version": "2.7.13"
  }
 },
 "nbformat": 4,
 "nbformat_minor": 2
}
